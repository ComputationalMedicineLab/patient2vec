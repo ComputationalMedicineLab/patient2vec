{
 "cells": [
  {
   "cell_type": "code",
   "execution_count": 1,
   "metadata": {
    "collapsed": true
   },
   "outputs": [],
   "source": [
    "import datetime\n",
    "import pandas as pd\n",
    "import numpy as np\n",
    "%matplotlib inline\n",
    "import matplotlib\n",
    "import matplotlib.pyplot as plt"
   ]
  },
  {
   "cell_type": "code",
   "execution_count": 2,
   "metadata": {
    "collapsed": true
   },
   "outputs": [],
   "source": [
    "lung_cancer_df = pd.read_csv(\"../data/raw/lung_biopsy_cancer.csv\")\n",
    "lung_cancer_control_df = pd.read_csv(\"../data/raw/lung_biopsy_cancer_control.csv\")"
   ]
  },
  {
   "cell_type": "markdown",
   "metadata": {},
   "source": [
    "# Generate final patient list"
   ]
  },
  {
   "cell_type": "code",
   "execution_count": 3,
   "metadata": {
    "collapsed": true
   },
   "outputs": [],
   "source": [
    "lung_cancer_df.drop([\"LUNG_CANCER_COUNT\", \"FIRST_LUNG_CANCER\", \"MONTHS_BETWEEN\", \"CODES_BEFORE\", \"MONTHS_CODES_BEFORE\"], axis=1, inplace=True)\n",
    "lung_cancer_df[\"OUTCOME\"] = np.ones(len(lung_cancer_df), dtype=np.int)\n",
    "\n",
    "lung_cancer_control_df.drop([\"FIRST_ICD_CODE\", \"BIOPSY_COUNT\", \"CODES_BEFORE\", \"MONTHS_CODES_BEFORE\"], axis=1, inplace=True)\n",
    "lung_cancer_control_df[\"OUTCOME\"] = np.zeros(len(lung_cancer_control_df), dtype=np.int)\n",
    "\n",
    "final_patient_list = pd.concat([lung_cancer_df, lung_cancer_control_df], ignore_index=True)\n",
    "final_patient_list.rename(columns={'FIRST_BIOPSY': 'CUTOFF_DATE'}, inplace=True)\n",
    "final_patient_list.to_csv(\"../data/intermediate/patient_list.csv\", index=False)"
   ]
  }
 ],
 "metadata": {
  "kernelspec": {
   "display_name": "Python 3",
   "language": "python",
   "name": "python3"
  },
  "language_info": {
   "codemirror_mode": {
    "name": "ipython",
    "version": 3
   },
   "file_extension": ".py",
   "mimetype": "text/x-python",
   "name": "python",
   "nbconvert_exporter": "python",
   "pygments_lexer": "ipython3",
   "version": "3.5.0"
  }
 },
 "nbformat": 4,
 "nbformat_minor": 2
}
