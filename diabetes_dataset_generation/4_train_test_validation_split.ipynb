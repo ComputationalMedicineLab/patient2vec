{
 "cells": [
  {
   "cell_type": "code",
   "execution_count": 1,
   "metadata": {
    "collapsed": true
   },
   "outputs": [],
   "source": [
    "import pandas as pd\n",
    "import numpy as np\n",
    "import sklearn\n",
    "\n",
    "patient_list_df = pd.read_csv(\"../data/intermediate/patient_list.csv\")"
   ]
  },
  {
   "cell_type": "markdown",
   "metadata": {},
   "source": [
    "# Split patients into train, test and validation groups"
   ]
  },
  {
   "cell_type": "code",
   "execution_count": 2,
   "metadata": {},
   "outputs": [],
   "source": [
    "from sklearn.model_selection import StratifiedShuffleSplit\n",
    "\n",
    "split_test = StratifiedShuffleSplit(n_splits=1, test_size=0.2, random_state=1)\n",
    "\n",
    "for train_validation_index, test_index in split_test.split(patient_list_df, patient_list_df['OUTCOME']):\n",
    "    train_validation_set = patient_list_df.iloc[train_validation_index]\n",
    "    test_set = patient_list_df.iloc[test_index]\n",
    "\n",
    "split_validation = StratifiedShuffleSplit(n_splits=1, test_size=0.0625, random_state=2)\n",
    "\n",
    "for train_index, validation_index in split_validation.split(train_validation_set, train_validation_set['OUTCOME']):\n",
    "    train_set = train_validation_set.iloc[train_index]\n",
    "    validation_set = train_validation_set.iloc[validation_index]"
   ]
  },
  {
   "cell_type": "code",
   "execution_count": 3,
   "metadata": {},
   "outputs": [
    {
     "name": "stdout",
     "output_type": "stream",
     "text": [
      "1    10920\n",
      "0    10920\n",
      "Name: OUTCOME, dtype: int64\n",
      "1    2912\n",
      "0    2912\n",
      "Name: OUTCOME, dtype: int64\n",
      "1    728\n",
      "0    728\n",
      "Name: OUTCOME, dtype: int64\n"
     ]
    }
   ],
   "source": [
    "print(train_set['OUTCOME'].value_counts())\n",
    "print(test_set['OUTCOME'].value_counts())\n",
    "print(validation_set['OUTCOME'].value_counts())"
   ]
  },
  {
   "cell_type": "code",
   "execution_count": 4,
   "metadata": {},
   "outputs": [],
   "source": [
    "train_set = train_set.copy()\n",
    "train_set['GROUP'] = np.array(['TRAIN'] * len(train_set))\n",
    "test_set = test_set.copy()\n",
    "test_set['GROUP'] = ['TEST'] * len(test_set)\n",
    "validation_set = validation_set.copy()\n",
    "validation_set['GROUP'] = ['VALIDATION'] * len(validation_set)"
   ]
  },
  {
   "cell_type": "code",
   "execution_count": 5,
   "metadata": {},
   "outputs": [],
   "source": [
    "patient_list_split_df = pd.concat([train_set, test_set, validation_set], ignore_index=True)\n",
    "patient_list_split_df.to_csv(\"../data/intermediate/patient_list_split.csv\", index=False)"
   ]
  },
  {
   "cell_type": "code",
   "execution_count": 6,
   "metadata": {},
   "outputs": [
    {
     "data": {
      "text/plain": [
       "TRAIN         21840\n",
       "TEST           5824\n",
       "VALIDATION     1456\n",
       "Name: GROUP, dtype: int64"
      ]
     },
     "execution_count": 6,
     "metadata": {},
     "output_type": "execute_result"
    }
   ],
   "source": [
    "patient_list_split_df[\"GROUP\"].value_counts()"
   ]
  }
 ],
 "metadata": {
  "kernelspec": {
   "display_name": "Python 3",
   "language": "python",
   "name": "python3"
  },
  "language_info": {
   "codemirror_mode": {
    "name": "ipython",
    "version": 3
   },
   "file_extension": ".py",
   "mimetype": "text/x-python",
   "name": "python",
   "nbconvert_exporter": "python",
   "pygments_lexer": "ipython3",
   "version": "3.5.0"
  }
 },
 "nbformat": 4,
 "nbformat_minor": 2
}
